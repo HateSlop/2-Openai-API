{
 "cells": [
  {
   "cell_type": "code",
   "execution_count": 7,
   "metadata": {},
   "outputs": [],
   "source": [
    "import os\n",
    "from dotenv import load_dotenv\n",
    "from openai import OpenAI\n",
    "import yfinance as yf\n",
    "import numpy as np\n",
    "import pandas as pd\n",
    "import json"
   ]
  },
  {
   "cell_type": "code",
   "execution_count": 8,
   "metadata": {},
   "outputs": [],
   "source": [
    "load_dotenv()\n",
    "api_key = os.getenv(\"OPENAI_API_KEY\")\n",
    "client = OpenAI(api_key = api_key)"
   ]
  },
  {
   "cell_type": "code",
   "execution_count": 9,
   "metadata": {},
   "outputs": [],
   "source": [
    "def get_stock_data(ticker):\n",
    "    stock = yf.Ticker(ticker)\n",
    "    history = stock.history(period=\"7d\")\n",
    "    dates = history.index.strftime(\"%Y-%m-%d\").tolist()\n",
    "    prices = history[\"Close\"].tolist()\n",
    "\n",
    "    return dates, prices\n",
    "\n",
    "def draw_graph(dates, prices, ticker):\n",
    "    import matplotlib.pyplot as plt\n",
    "    plt.plot(dates, prices, color = 'pink', marker = 'o', label = ticker)\n",
    "    plt.xlabel(\"Date\")\n",
    "    plt.ylabel(\"Price\")\n",
    "    plt.title(f\"{ticker} Price History\")\n",
    "    plt.legend()\n",
    "    plt.show()"
   ]
  },
  {
   "cell_type": "code",
   "execution_count": 10,
   "metadata": {},
   "outputs": [],
   "source": [
    "### 궁금한 것\n",
    "# 1. main에 response정의 안해도 초기 응답을 받을 수 있음? ai가 자동으로 인식?\n",
    "# 2. tool_choice의 역할 - auto로 하면 tools의 function을 자동으로 실행해줌\n",
    "# 3. tools의 function의 name이 실제 함수명과 다른데도 실행이 되는 이유? ai가 자동으로 인식?\n",
    "# 4. tools의 function에 들어가는 parameter는 어떻게 정해지는지? ai가 자동으로 인식?"
   ]
  },
  {
   "cell_type": "code",
   "execution_count": 11,
   "metadata": {},
   "outputs": [
    {
     "data": {
      "image/png": "[encoded data removed]",
      "text/plain": [
       "<Figure size 640x480 with 1 Axes>"
      ]
     },
     "metadata": {},
     "output_type": "display_data"
    },
    {
     "name": "stdout",
     "output_type": "stream",
     "text": [
      "주어진 NVDA의 최근 7일간 주가 데이터를 바탕으로 향후 전망을 분석해보겠습니다.\n",
      "\n",
      "1. **주가 변동 추세**:\n",
      "   - 최근 7일 동안 NVDA의 주가는 전반적으로 상승세를 보였습니다. 이는 긍정적인 신호로 해석될 수 있으며, 시장에서의 수요 증가를 나타낼 수 있습니다.\n",
      "\n",
      "2. **평균 가격**:\n",
      "   - 최근 7일 동안 평균 주가는 116.32입니다. 이는 현재 주가가 평균에 비해 어느 정도의 위치에 있는지를 판단할 수 있는 기준이 됩니다.\n",
      "\n",
      "3. **변동성**:\n",
      "   - 변동성이 3.77로 나타났습니다. 이는 주가의 일일 변동폭이 상대적으로 작음을 의미합니다. 높은 변동성은 투자자에게 더 큰 위험을 의미할 수 있지만, 현재의 낮은 변동성은 안정적인 투자환경을 나타내는 신호일 수 있습니다.\n",
      "\n",
      "4. **기술적 분석**:\n",
      "   - 주가가 최근에 지속적으로 상승하면서, 이는 기술적으로도 매수세가 강하다는 것으로 볼 수 있습니다. 또한 최근의 최고가인 121.67에 근접하고 있다는 점에서, 단기 조정은 있을 수 있으나 장기적인 상승세를 기대할 수 있는 상황입니다.\n",
      "\n",
      "5. **전망**:\n",
      "   - 만약 주가가 더 안정적으로 유지된다면, 현재의 상승세는 계속될 가능성이 큽니다. 그러나 단기적으로 조정이 올 가능성도 배제할 수 없으므로, 이를 감안한 투자 전략이 필요합니다. 또한, 외부 요인(경제 지표, 시장 전반의 변화 등)도 고려하여 더 넓은 맥락에서 접근하는 것이 중요합니다.\n",
      "\n",
      "결론적으로, NVDA의 주가는 긍정적인 상승세를 유지하고 있지만, 투자 시에는 조정 가능성과 외부 경제적 요인들을 충분히 고려하는 것이 중요합니다.\n"
     ]
    }
   ],
   "source": [
    "def analyze_stock_trend(ticker):\n",
    "    dates, prices = get_stock_data(ticker)\n",
    "    \n",
    "    price_diff = np.diff(prices)\n",
    "    trend = \"상승\" if sum(price_diff) > 0 else \"하락\"\n",
    "    avg_price = np.mean(prices)\n",
    "    volatility = np.std(prices)\n",
    "\n",
    "    draw_graph(dates, prices, ticker)\n",
    "\n",
    "    messages = [\n",
    "        {\"role\": \"system\", \"content\": \"너는 금융 시장을 분석하는 AI야.\"},\n",
    "        {\"role\": \"user\", \"content\": f\"{ticker}의 최근 7일간 주가 데이터야. 이를 기반으로 향후 전망을 분석해줘.\"},\n",
    "        {\"role\": \"user\", \"content\": f\"날짜: {dates}\"},\n",
    "        {\"role\": \"user\", \"content\": f\"주가: {prices}\"},\n",
    "        {\"role\": \"user\", \"content\": f\"주가 변동 추세: {trend}, 평균 가격: {avg_price:.2f}, 변동성: {volatility:.2f}\"}\n",
    "    ]\n",
    "\n",
    "    response = client.chat.completions.create(\n",
    "        model=\"gpt-4o-mini\",\n",
    "        messages=messages\n",
    "    )\n",
    "\n",
    "    return response.choices[0].message.content\n",
    "tools = [\n",
    "    {\n",
    "        \"type\": \"function\",\n",
    "        \"function\": {\n",
    "            \"name\": \"analyze_stock_trend\",\n",
    "            \"description\": \"특정 주식의 최근 7일간 가격 변동을 분석하고 향후 전망을 예측합니다.\",\n",
    "            \"parameters\": {\n",
    "                \"type\": \"object\",\n",
    "                \"properties\": {\n",
    "                    \"ticker\": {\n",
    "                        \"type\": \"string\",\n",
    "                        \"description\": \"분석할 주식의 종목 코드 (예: AAPL, TSLA, GOOG)\"\n",
    "                    }\n",
    "                },\n",
    "                \"required\": [\"ticker\"]\n",
    "            }\n",
    "        }\n",
    "    }\n",
    "]\n",
    "response = client.chat.completions.create(\n",
    "    model = \"gpt-4o-mini\",\n",
    "    messages = [\n",
    "        {\"role\": \"system\", \"content\": \"너는 금융 시장을 분석하는 AI야.\"},\n",
    "        {\"role\": \"user\", \"content\": \"엔비디아 주가가 어떻게 변화했는지 알려줘\"},\n",
    "        #{\"role\": \"user\", \"content\": \"밥 메뉴추천좀\"} tool기능 비활성화\n",
    "    ],\n",
    "    tools = tools\n",
    ")\n",
    "\n",
    "response_dict = response.to_dict()\n",
    "message_content = response_dict[\"choices\"][0][\"message\"]\n",
    "\n",
    "if \"tool_calls\" in message_content:\n",
    "    tool_call = message_content[\"tool_calls\"][0]\n",
    "    function_name = tool_call[\"function\"][\"name\"]\n",
    "    arguments = json.loads(tool_call[\"function\"][\"arguments\"])\n",
    "\n",
    "    if function_name == \"analyze_stock_trend\":\n",
    "        ticker = arguments[\"ticker\"]\n",
    "        analysis_result = analyze_stock_trend(ticker)\n",
    "        print(analysis_result)\n",
    "else:\n",
    "    print(message_content[\"content\"])"
   ]
  },
  {
   "cell_type": "code",
   "execution_count": null,
   "metadata": {},
   "outputs": [],
   "source": []
  }
 ],
 "metadata": {
  "kernelspec": {
   "display_name": "hateslop1",
   "language": "python",
   "name": "python3"
  },
  "language_info": {
   "codemirror_mode": {
    "name": "ipython",
    "version": 3
   },
   "file_extension": ".py",
   "mimetype": "text/x-python",
   "name": "python",
   "nbconvert_exporter": "python",
   "pygments_lexer": "ipython3",
   "version": "3.10.16"
  }
 },
 "nbformat": 4,
 "nbformat_minor": 2
}
