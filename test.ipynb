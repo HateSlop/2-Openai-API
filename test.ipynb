{
 "cells": [
  {
   "cell_type": "code",
   "execution_count": 2,
   "metadata": {},
   "outputs": [],
   "source": [
    "import os\n",
    "from dotenv import load_dotenv\n",
    "from openai import OpenAI\n",
    "import json"
   ]
  },
  {
   "cell_type": "code",
   "execution_count": 3,
   "metadata": {},
   "outputs": [],
   "source": [
    "load_dotenv()\n",
    "api_key = os.getenv(\"OPENAI_API_KEY\")\n",
    "client = OpenAI(api_key = api_key)"
   ]
  },
  {
   "cell_type": "code",
   "execution_count": null,
   "metadata": {},
   "outputs": [],
   "source": [
    "completion = client.chat.completions.create(\n",
    "    model = \"gpt-4o-mini\",\n",
    "    messages = [\n",
    "        {\"role\" : \"system\", \"content\" : \"너는 귀여워. 사투리를 써\"}, #시스템 캐릭터성 부여\n",
    "        {\"role\" : \"user\", \"content\" : \"오늘 야식 뭐 먹을래?\"},#role, content 고정\n",
    "        {\"role\" : \"assistant\", \"content\" : \"나는 오늘 치킨이 땡기는데?\"},\n",
    "        {\"role\" : \"user\", \"content\" : \"치킨이라니! 어디서 시킬까?\"}\n",
    "    ]\n",
    "    \n",
    ")"
   ]
  },
  {
   "cell_type": "code",
   "execution_count": 17,
   "metadata": {},
   "outputs": [
    {
     "name": "stdout",
     "output_type": "stream",
     "text": [
      "음, 근처에 맛있는 치킨집 몇 군데 있지. 신선한 재료로 만드는 집이나 치밥이 맛있는 집 알아? 아니면 배달어플로 추천받아볼까?\n"
     ]
    }
   ],
   "source": [
    "content = completion.choices[0].message.content\n",
    "print(content)"
   ]
  },
  {
   "cell_type": "code",
   "execution_count": null,
   "metadata": {},
   "outputs": [],
   "source": []
  }
 ],
 "metadata": {
  "kernelspec": {
   "display_name": "hateslop1",
   "language": "python",
   "name": "python3"
  },
  "language_info": {
   "codemirror_mode": {
    "name": "ipython",
    "version": 3
   },
   "file_extension": ".py",
   "mimetype": "text/x-python",
   "name": "python",
   "nbconvert_exporter": "python",
   "pygments_lexer": "ipython3",
   "version": "3.10.16"
  }
 },
 "nbformat": 4,
 "nbformat_minor": 2
}
