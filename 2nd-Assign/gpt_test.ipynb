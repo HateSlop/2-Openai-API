{
 "cells": [
  {
   "cell_type": "code",
   "execution_count": 1,
   "metadata": {},
   "outputs": [],
   "source": [
    "import os\n",
    "from dotenv import load_dotenv\n",
    "from openai import OpenAI\n",
    "import json"
   ]
  },
  {
   "cell_type": "code",
   "execution_count": 2,
   "metadata": {},
   "outputs": [],
   "source": [
    "load_dotenv()\n",
    "api_key = os.getenv(\"OPENAI_GET_KEY\")\n",
    "client = OpenAI(api_key=api_key)"
   ]
  },
  {
   "cell_type": "code",
   "execution_count": null,
   "metadata": {},
   "outputs": [],
   "source": [
    "# tools = [{\n",
    "#     \"type\":\"function\",\n",
    "#     \"function\":{\n",
    "#         \"name\":\"locate_country_and_winery_based_on_wine\",\n",
    "#         \"description\":\"Retrieve a country and a winery for a given name of wine\",\n",
    "#         \"parameters\":{\n",
    "#             \"type\":\"object\",\n",
    "#             \"properties\":{\n",
    "#                 \"wine_info\":{\n",
    "#                     \"type\":\"string\",\n",
    "#                     \"description\":\"Name of a wine e.g. lodali moscato d'asti\"\n",
    "#                 }\n",
    "#             },\n",
    "#             \"required\":[\n",
    "#                 \"winery_info\"\n",
    "#             ],\n",
    "#             \"additionalProperties\":False\n",
    "#         },\n",
    "#         \"strict\":True\n",
    "#     }\n",
    "# }]"
   ]
  },
  {
   "cell_type": "code",
   "execution_count": null,
   "metadata": {},
   "outputs": [],
   "source": [
    "# completion = client.chat.completions.create(\n",
    "#     model=\"gpt-4o-mini\",\n",
    "#     messages=[\n",
    "#         {\"role\":\"user\", \"content\":\"Where was the wine 'de bortoli deen vat 5' produced?\"}\n",
    "#     ],\n",
    "#     tools=tools\n",
    "# )"
   ]
  },
  {
   "cell_type": "code",
   "execution_count": null,
   "metadata": {},
   "outputs": [],
   "source": [
    "# completion_1 = client.chat.completions.create(\n",
    "#     model=\"gpt-4o-mini\",\n",
    "#     messages=[\n",
    "#         {\"role\":\"user\", \"content\":\"Where is the Eiffel Tower located?\"}\n",
    "#     ],\n",
    "#     tools=tools\n",
    "# )"
   ]
  },
  {
   "cell_type": "code",
   "execution_count": null,
   "metadata": {},
   "outputs": [
    {
     "name": "stdout",
     "output_type": "stream",
     "text": [
      "[ChatCompletionMessageToolCall(id='call_tt3uqMjXMrAgQbKGr9hlHKyk', function=Function(arguments='{\"winery_info\":\"de bortoli deen vat 5\"}', name='locate_country_and_winery_based_on_wine'), type='function')]\n"
     ]
    }
   ],
   "source": [
    "# content_tool = completion.choices[0].message.tool_calls\n",
    "# # content_other = completion_1.choices[0].message.content\n",
    "# print(content_tool)\n",
    "# # print(content_other)"
   ]
  },
  {
   "cell_type": "code",
   "execution_count": null,
   "metadata": {},
   "outputs": [],
   "source": [
    "# tool_call = completion.choices[0].message.tool_calls[0]\n",
    "# args = json.loads(tool_call.function.arguments)\n",
    "# result = locate_country_and_winery_based_on_wine(args[\"wine_info\"])"
   ]
  },
  {
   "cell_type": "code",
   "execution_count": 36,
   "metadata": {},
   "outputs": [],
   "source": [
    "tools = [{\n",
    "    \"type\": \"function\",\n",
    "    \"function\": {\n",
    "        \"name\": \"get_weather\",\n",
    "        \"description\": \"Get current temperature for provided coordinates in celsius.\",\n",
    "        \"parameters\": {\n",
    "            \"type\": \"object\",\n",
    "            \"properties\": {\n",
    "                \"latitude\": {\"type\": \"number\"},\n",
    "                \"longitude\": {\"type\": \"number\"}\n",
    "            },\n",
    "            \"required\": [\"latitude\", \"longitude\"],\n",
    "            \"additionalProperties\": False\n",
    "        },\n",
    "        \"strict\": True\n",
    "    }\n",
    "}]"
   ]
  },
  {
   "cell_type": "code",
   "execution_count": 37,
   "metadata": {},
   "outputs": [],
   "source": [
    "completion = client.chat.completions.create(\n",
    "    model=\"gpt-4o-mini\",\n",
    "    messages=[\n",
    "        {\"role\":\"user\", \"content\":\"What's the weather like in Paris today?\"}\n",
    "    ],\n",
    "    tools=tools\n",
    ")"
   ]
  },
  {
   "cell_type": "code",
   "execution_count": 43,
   "metadata": {},
   "outputs": [],
   "source": [
    "import requests\n",
    "\n",
    "def get_weather(latitude, longitude):\n",
    "    response = requests.get(f\"https://api.open-meteo.com/v1/forecast?latitude={latitude}&longitude={longitude}&current=temperature_2m,wind_speed_10m&hourly=temperature_2m,relative_humidity_2m,wind_speed_10m\")\n",
    "    data = response.json()\n",
    "    return data['current']['temperature_2m']"
   ]
  },
  {
   "cell_type": "code",
   "execution_count": 59,
   "metadata": {},
   "outputs": [],
   "source": [
    "messages = [{\"role\":\"user\", \"content\":\"What's the weather like in Paris today?\"}]"
   ]
  },
  {
   "cell_type": "code",
   "execution_count": 62,
   "metadata": {},
   "outputs": [],
   "source": [
    "tool_call = completion.choices[0].message.tool_calls[0]\n",
    "args = json.loads(tool_call.function.arguments)\n",
    "result = get_weather(args[\"latitude\"], args[\"longitude\"])"
   ]
  },
  {
   "cell_type": "code",
   "execution_count": 63,
   "metadata": {},
   "outputs": [],
   "source": [
    "messages.append(completion.choices[0].message)\n",
    "messages.append({\n",
    "    \"role\":\"tool\",\n",
    "    \"tool_call_id\":tool_call.id,\n",
    "    \"content\":str(result)\n",
    "})"
   ]
  },
  {
   "cell_type": "code",
   "execution_count": 51,
   "metadata": {},
   "outputs": [],
   "source": [
    "messages.append({\n",
    "    \"role\":\"user\",\n",
    "    \"content\":\"What is noble rot?\"\n",
    "})"
   ]
  },
  {
   "cell_type": "code",
   "execution_count": 64,
   "metadata": {},
   "outputs": [],
   "source": [
    "completion_2 = client.chat.completions.create(\n",
    "    model=\"gpt-4o-mini\",\n",
    "    messages=messages,\n",
    "    tools=tools\n",
    ")"
   ]
  },
  {
   "cell_type": "code",
   "execution_count": 65,
   "metadata": {},
   "outputs": [
    {
     "data": {
      "text/plain": [
       "'The current temperature in Paris today is 9.4°C.'"
      ]
     },
     "execution_count": 65,
     "metadata": {},
     "output_type": "execute_result"
    }
   ],
   "source": [
    "completion_2.choices[0].message.content"
   ]
  },
  {
   "cell_type": "code",
   "execution_count": 54,
   "metadata": {},
   "outputs": [
    {
     "data": {
      "text/plain": [
       "'Noble rot, scientifically known as Botrytis cinerea, is a type of fungal infection that affects grapes. It is particularly significant in the production of certain sweet wines. The fungus causes the grapes to dehydrate, concentrating the sugars and flavors, which can lead to the creation of rich, sweet wines with complex flavors.\\n\\nHere are some key points about noble rot:\\n\\n1. **Weather Conditions**: Noble rot occurs under specific climatic conditions, usually when there is a period of humid weather followed by dry conditions. This allows the Botrytis fungus to develop and then dry out the grapes.\\n\\n2. **Wine Production**: Wines made from grapes affected by noble rot are typically sweet and can have flavors reminiscent of honey, apricots, and other ripe fruits. Famous examples of these wines include Sauternes from France and Tokaji from Hungary.\\n\\n3. **Selective Harvesting**: Winemakers often selectively harvest the affected grapes to ensure that only those with the desirable characteristics are used in the winemaking process.\\n\\n4. **Balance in Winemaking**: The noble rot contributes not only sweetness but also acidity and complexity to the wine, making it unique compared to other sweet wines.\\n\\nOverall, noble rot is a sought-after phenomenon in the wine industry, leading to some of the most prestigious and expensive dessert wines in the world.'"
      ]
     },
     "execution_count": 54,
     "metadata": {},
     "output_type": "execute_result"
    }
   ],
   "source": [
    "completion_2.choices[0].message.content"
   ]
  }
 ],
 "metadata": {
  "kernelspec": {
   "display_name": "testv",
   "language": "python",
   "name": "python3"
  },
  "language_info": {
   "codemirror_mode": {
    "name": "ipython",
    "version": 3
   },
   "file_extension": ".py",
   "mimetype": "text/x-python",
   "name": "python",
   "nbconvert_exporter": "python",
   "pygments_lexer": "ipython3",
   "version": "3.12.9"
  }
 },
 "nbformat": 4,
 "nbformat_minor": 2
}
